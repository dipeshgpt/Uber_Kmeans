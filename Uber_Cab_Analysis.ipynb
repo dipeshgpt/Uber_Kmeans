{
 "cells": [
  {
   "cell_type": "code",
   "execution_count": null,
   "metadata": {},
   "outputs": [],
   "source": [
    "import numpy as np\n",
    "from sklearn.cluster import KMeans\n",
    "import pandas as pd\n",
    "import matplotlib.pyplot as plt\n",
    "import seaborn as sns\n",
    "import folium"
   ]
  },
  {
   "cell_type": "markdown",
   "metadata": {},
   "source": [
    "# Creating Dataframes"
   ]
  },
  {
   "cell_type": "code",
   "execution_count": null,
   "metadata": {},
   "outputs": [],
   "source": [
    "folder = 'E:/Desktop/Uber kmeans workshop/Dataset/'"
   ]
  },
  {
   "cell_type": "code",
   "execution_count": null,
   "metadata": {},
   "outputs": [],
   "source": [
    "apr14 = pd.read_csv(folder+'uber-raw-data-apr14.csv')\n",
    "may14 = pd.read_csv(folder+'uber-raw-data-may14.csv')\n",
    "jun14 = pd.read_csv(folder+'uber-raw-data-jun14.csv')\n",
    "jul14 = pd.read_csv(folder+'uber-raw-data-jul14.csv')\n",
    "aug14 = pd.read_csv(folder+'uber-raw-data-aug14.csv')\n",
    "sep14 = pd.read_csv(folder+'uber-raw-data-sep14.csv')"
   ]
  },
  {
   "cell_type": "code",
   "execution_count": null,
   "metadata": {},
   "outputs": [],
   "source": [
    "df = pd.concat([apr14,may14,jun14,jul14,aug14,sep14])"
   ]
  },
  {
   "cell_type": "code",
   "execution_count": null,
   "metadata": {},
   "outputs": [],
   "source": [
    "df"
   ]
  },
  {
   "cell_type": "code",
   "execution_count": null,
   "metadata": {},
   "outputs": [],
   "source": [
    "##Now we will do data pre-processing on \"Date/Time\" feature"
   ]
  },
  {
   "cell_type": "code",
   "execution_count": null,
   "metadata": {},
   "outputs": [],
   "source": [
    "#new = pd.to_datetime(apr14['Date/Time'])\n",
    "df['Date/Time'] = pd.to_datetime(df['Date/Time'])"
   ]
  },
  {
   "cell_type": "code",
   "execution_count": null,
   "metadata": {},
   "outputs": [],
   "source": [
    "df"
   ]
  },
  {
   "cell_type": "markdown",
   "metadata": {},
   "source": [
    "# Histogram"
   ]
  },
  {
   "cell_type": "code",
   "execution_count": null,
   "metadata": {},
   "outputs": [],
   "source": [
    "df['Date/Time'].dt.time"
   ]
  },
  {
   "cell_type": "code",
   "execution_count": null,
   "metadata": {},
   "outputs": [],
   "source": [
    "df['Time'] = df['Date/Time'].dt.time.apply(lambda x : int(x.strftime('%H%M%S')))"
   ]
  },
  {
   "cell_type": "code",
   "execution_count": null,
   "metadata": {},
   "outputs": [],
   "source": [
    "df"
   ]
  },
  {
   "cell_type": "code",
   "execution_count": null,
   "metadata": {},
   "outputs": [],
   "source": [
    "plt.hist(df['Time'])"
   ]
  },
  {
   "cell_type": "code",
   "execution_count": null,
   "metadata": {},
   "outputs": [],
   "source": [
    "sns.histplot(df['Time'])\n",
    "#we could see that the maximum no. of rides take place between 3pm. to 9pm."
   ]
  },
  {
   "cell_type": "markdown",
   "metadata": {},
   "source": [
    "# Now, lets divide our dataset based on morning and evening rides"
   ]
  },
  {
   "cell_type": "code",
   "execution_count": null,
   "metadata": {},
   "outputs": [],
   "source": [
    "morning_df_index = (df['Time'] > 5000) & (df['Time'] < 110000)\n",
    "morning_df = df[morning_df_index]\n",
    "print(morning_df)"
   ]
  },
  {
   "cell_type": "code",
   "execution_count": null,
   "metadata": {},
   "outputs": [],
   "source": [
    "evening_df_index = (df['Time'] > 150000) & (df['Time'] < 220000)\n",
    "evening_df = df[evening_df_index]\n",
    "print(evening_df)"
   ]
  },
  {
   "cell_type": "code",
   "execution_count": null,
   "metadata": {},
   "outputs": [],
   "source": [
    "#Now, we will get coordinates of cab booked in morning and evening\n",
    "#For this, we will combine random 10000 Latitude and longitude in one single array\n",
    "morning_coords = morning_df[['Lat','Lon']].sample(10000,random_state=10).values\n",
    "print(morning_coords)"
   ]
  },
  {
   "cell_type": "code",
   "execution_count": null,
   "metadata": {},
   "outputs": [],
   "source": [
    "evening_coords = evening_df[['Lat','Lon']].sample(10000,random_state=10).values\n",
    "print(evening_coords)"
   ]
  },
  {
   "cell_type": "markdown",
   "metadata": {},
   "source": [
    "# Plotting morning and evening rides on map"
   ]
  },
  {
   "cell_type": "code",
   "execution_count": null,
   "metadata": {},
   "outputs": [],
   "source": [
    "morning_map = folium.Map([40.7709, -73.949],zoom_start = 11,tiles = 'stamen toner')\n",
    "for coords in morning_coords:\n",
    "    folium.CircleMarker(location = coords,fill=True,radius=1).add_to(morning_map)\n",
    "morning_map"
   ]
  },
  {
   "cell_type": "code",
   "execution_count": null,
   "metadata": {},
   "outputs": [],
   "source": [
    "evening_map = folium.Map([40.6975,-73.9967],zoom_start = 11,tiles = 'stamen toner')\n",
    "for coords in evening_coords:\n",
    "    folium.CircleMarker(location = coords,fill=True,radius=1,color='red').add_to(evening_map)\n",
    "evening_map"
   ]
  },
  {
   "cell_type": "markdown",
   "metadata": {},
   "source": [
    "# Now, lets find clusters(hotspot areas) in morning rides, evening rides and whole dataset \n"
   ]
  },
  {
   "cell_type": "markdown",
   "metadata": {},
   "source": [
    "# 1) Morning ride clusters"
   ]
  },
  {
   "cell_type": "code",
   "execution_count": null,
   "metadata": {},
   "outputs": [],
   "source": [
    "clusters = 6   #no. of cluster should be decided by using elbow method. I did it below for whole dataset\n",
    "model = KMeans(n_clusters = clusters,init = 'random',max_iter=300)"
   ]
  },
  {
   "cell_type": "code",
   "execution_count": null,
   "metadata": {
    "scrolled": true
   },
   "outputs": [],
   "source": [
    "model.fit(morning_df[['Lat','Lon']])"
   ]
  },
  {
   "cell_type": "code",
   "execution_count": null,
   "metadata": {},
   "outputs": [],
   "source": [
    "morning_centroids = model.cluster_centers_\n",
    "morning_centroids"
   ]
  },
  {
   "cell_type": "code",
   "execution_count": null,
   "metadata": {},
   "outputs": [],
   "source": [
    "for i,coords in enumerate(morning_centroids):\n",
    "    folium.Marker(location = coords,popup='centroid {}'.format(i+1)).add_to(morning_map)\n",
    "morning_map"
   ]
  },
  {
   "cell_type": "markdown",
   "metadata": {},
   "source": [
    "# 2) Evening ride clusters"
   ]
  },
  {
   "cell_type": "code",
   "execution_count": null,
   "metadata": {},
   "outputs": [],
   "source": [
    "#For evening rides\n",
    "clusters = 6\n",
    "model = KMeans(n_clusters = clusters,init='random',max_iter=300)"
   ]
  },
  {
   "cell_type": "code",
   "execution_count": null,
   "metadata": {},
   "outputs": [],
   "source": [
    "model.fit(evening_df[['Lat','Lon']])"
   ]
  },
  {
   "cell_type": "code",
   "execution_count": null,
   "metadata": {},
   "outputs": [],
   "source": [
    "evening_centroids = model.cluster_centers_\n",
    "evening_centroids"
   ]
  },
  {
   "cell_type": "code",
   "execution_count": null,
   "metadata": {},
   "outputs": [],
   "source": [
    "for i,coords in enumerate(evening_centroids):\n",
    "    folium.Marker(location = coords,popup='centroid {}'.format(i+1)).add_to(evening_map)\n",
    "evening_map"
   ]
  },
  {
   "cell_type": "markdown",
   "metadata": {},
   "source": [
    "# 3) Clusters for whole dataset \n",
    "#        Elbow method "
   ]
  },
  {
   "cell_type": "code",
   "execution_count": null,
   "metadata": {},
   "outputs": [],
   "source": [
    "#for whole dataset\n",
    "#elbow method using WCSS\n",
    "wcss = []\n",
    "for i in range(1,11):\n",
    "    model = KMeans(n_clusters = i)\n",
    "    model.fit(df[['Lat','Lon']])\n",
    "    w = model.inertia_       #WCSS value\n",
    "    wcss.append(w)\n",
    "    print(wcss[i-1])"
   ]
  },
  {
   "cell_type": "code",
   "execution_count": null,
   "metadata": {},
   "outputs": [],
   "source": [
    "plt.plot(wcss)\n",
    "#We could see that 8 could be the no. of clusters. So, take 8 as nclusters."
   ]
  },
  {
   "cell_type": "code",
   "execution_count": null,
   "metadata": {},
   "outputs": [],
   "source": [
    "cluster = 8\n",
    "model = KMeans(n_clusters = cluster)\n",
    "model.fit(df[['Lat','Lon']])\n",
    "model.inertia_"
   ]
  },
  {
   "cell_type": "code",
   "execution_count": null,
   "metadata": {},
   "outputs": [],
   "source": [
    "centroids = model.cluster_centers_\n",
    "centroids"
   ]
  },
  {
   "cell_type": "code",
   "execution_count": null,
   "metadata": {},
   "outputs": [],
   "source": [
    "map = folium.Map(location=[40.79658011772687, -73.87341741832425], zoom_start = 10, tiles='Stamen Toner')\n",
    "for i, coordinate in enumerate(centroids):\n",
    "    folium.Marker(coordinate, popup='Centroid {}'.format(i+1)).add_to(map)\n",
    "map"
   ]
  },
  {
   "cell_type": "markdown",
   "metadata": {},
   "source": [
    "# Let's Predict for the new ride."
   ]
  },
  {
   "cell_type": "code",
   "execution_count": null,
   "metadata": {},
   "outputs": [],
   "source": [
    "new_ride = (40.70647056912189, -73.91116590442799)      #suppose new ride is coming from this location\n",
    "folium.Marker(new_ride, popup='New Rider', icon=folium.Icon(color='green')).add_to(map)\n",
    "map"
   ]
  },
  {
   "cell_type": "code",
   "execution_count": null,
   "metadata": {},
   "outputs": [],
   "source": [
    "#now, lets predict which hotspot's cab will be assigned to this new ride\n",
    "centroid_idx = model.predict([new_ride])\n",
    "centroid_idx"
   ]
  },
  {
   "cell_type": "code",
   "execution_count": null,
   "metadata": {},
   "outputs": [],
   "source": [
    "centroids[centroid_idx]"
   ]
  },
  {
   "cell_type": "code",
   "execution_count": null,
   "metadata": {},
   "outputs": [],
   "source": [
    "folium.Marker(centroids[centroid_idx][0], icon=folium.Icon(color='red')).add_to(map)\n",
    "map"
   ]
  },
  {
   "cell_type": "code",
   "execution_count": null,
   "metadata": {},
   "outputs": [],
   "source": []
  }
 ],
 "metadata": {
  "kernelspec": {
   "display_name": "Python 3",
   "language": "python",
   "name": "python3"
  },
  "language_info": {
   "codemirror_mode": {
    "name": "ipython",
    "version": 3
   },
   "file_extension": ".py",
   "mimetype": "text/x-python",
   "name": "python",
   "nbconvert_exporter": "python",
   "pygments_lexer": "ipython3",
   "version": "3.7.7"
  }
 },
 "nbformat": 4,
 "nbformat_minor": 4
}
